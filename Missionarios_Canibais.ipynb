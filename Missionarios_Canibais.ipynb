{
  "nbformat": 4,
  "nbformat_minor": 0,
  "metadata": {
    "colab": {
      "provenance": [],
      "authorship_tag": "ABX9TyO/PtfFeHYlvOPGbzt4AVE8",
      "include_colab_link": true
    },
    "kernelspec": {
      "name": "python3",
      "display_name": "Python 3"
    },
    "language_info": {
      "name": "python"
    }
  },
  "cells": [
    {
      "cell_type": "markdown",
      "metadata": {
        "id": "view-in-github",
        "colab_type": "text"
      },
      "source": [
        "<a href=\"https://colab.research.google.com/github/Luandersonsouza/Missionaries_Cannibals/blob/main/Missionarios_Canibais.ipynb\" target=\"_parent\"><img src=\"https://colab.research.google.com/assets/colab-badge.svg\" alt=\"Open In Colab\"/></a>"
      ]
    },
    {
      "cell_type": "markdown",
      "source": [
        "Notebook criado com intuito de solucionar o problema proposto em aula."
      ],
      "metadata": {
        "id": "6FuJxrLilvgW"
      }
    },
    {
      "cell_type": "code",
      "execution_count": null,
      "metadata": {
        "id": "k1mMwEZAluqg"
      },
      "outputs": [],
      "source": [
        "\"\"\"                         Missionarios e Canibais\n",
        "      Problema consiste em atravessar três missionários e três canibais\n",
        "      de uma margem do rio para a outra.\n",
        "\"\"\""
      ]
    },
    {
      "cell_type": "code",
      "source": [
        "class State():\n",
        "\n",
        "    def __init__(self, missionaries_left, missionaries_right , cannibals_left, cannibals_right, river_side):\n",
        "        \"\"\"\n",
        "            Inicializa um estado com as informações de quantidade de missionários e canibais de\n",
        "            cada lado do rio, além da informação de em que lado do rio está o barco.\n",
        "        \"\"\"\n",
        "        self.missionaries_left = missionaries_left\n",
        "        self.missionaries_right = missionaries_right\n",
        "        self.cannibals_left = cannibals_left\n",
        "        self.cannibals_right = cannibals_right\n",
        "        self.river_side = river_side\n",
        "        self.father = None\n",
        "        self.son = []\n",
        "\n",
        "    def __str__(self):\n",
        "        \"\"\"\n",
        "            Define a representação em string de um estado.\n",
        "        \"\"\"\n",
        "        return 'Missionaries: {}\\t| Missionaries: {}\\n Cannibals: {}\\t| Cannibals: {}'.format(\n",
        "            self.missionaries_left, self.missionaries_right, self.cannibals_left, self.cannibals_right\n",
        "        )\n",
        "\n",
        "    def valide_state(self):\n",
        "        \"\"\"\n",
        "            Verifica se o estado é válido, ou seja, não possue mais canibais que missionários\n",
        "            em nenhum lado do rio.\n",
        "        \"\"\"\n",
        "        # Não se pode gerar estados onde o número de canibais ou missionários em qualquer lado\n",
        "        # do rio seja negativo\n",
        "        if ((self.missionaries_left < 0) or (self.missionaries_right < 0)\n",
        "            or (self.cannibals_left< 0) or (self.cannibals_right < 0)):\n",
        "            return False\n",
        "        # Verifica se em ambas as margens do rio o número de missionários não é inferior ao número\n",
        "        # de canibais. Lembrando que caso não hajam missionários em um dos lados, não é necessário\n",
        "        # verificar o número de canibais nele.\n",
        "        return ((self.missionaries_left == 0 or self.missionaries_left >= self.cannibals_left) and\n",
        "                (self.missionaries_right == 0 or self.missionaries_right >= self.cannibals_right))\n",
        "\n",
        "\n",
        "    def last_state(self):\n",
        "        \"\"\"\n",
        "            Verifica se o estado é um estado final, ou seja, é uma das possíveis soluções do\n",
        "            problema.\n",
        "        \"\"\"\n",
        "        # Um estado é um estado final se todos os missionários e canibais atravessaram o rio\n",
        "        result_left = self.missionaries_left == self.cannibals_left == 0\n",
        "        result_right = self.missionaries_right == self.cannibals_right == 3\n",
        "        return result_left and result_right\n",
        "\n",
        "    def make_children(self):\n",
        "        \"\"\"\n",
        "            Gera todos os possíveis filhos de um estado, se este for um estado válido e não\n",
        "            for um estado final.\n",
        "        \"\"\"\n",
        "        # Encontra o novo lado do rio\n",
        "        new_river_side = 'right' if self.river_side == 'left' else 'left'\n",
        "        # Gera a lista de possíveis movimentos\n",
        "        movements = [\n",
        "            {'missionaries': 2, 'cannibals': 0},\n",
        "            {'missionaries': 1, 'cannibals': 0},\n",
        "            {'missionaries': 1, 'cannibals': 1},\n",
        "            {'missionaries': 0, 'cannibals': 1},\n",
        "            {'missionaries': 0, 'cannibals': 2},\n",
        "        ]\n",
        "        # Gera todos os possíveis estados e armazena apenas os válidos na lista de filhos\n",
        "        # do estado atual\n",
        "        for moviment in movements:\n",
        "            if self.river_side == 'left':\n",
        "                # Se o barco estiver a esquerda do rio, os missionários e canibais saem da\n",
        "                # margem esquerda do rio e vão para a direita\n",
        "                missionaries_left = self.missionaries_left - moviment['missionaries']\n",
        "                missionaries_right = self.missionaries_right + moviment['missionaries']\n",
        "                cannibals_left = self.cannibals_left - moviment['cannibals']\n",
        "                cannibals_right = self.cannibals_right + moviment['cannibals']\n",
        "            else:\n",
        "                # Caso contrário, os missionários e canibais saem da margem direita do rio\n",
        "                # e vão para a esquerda\n",
        "                missionaries_right = self.missionaries_right - moviment['missionaries']\n",
        "                missionaries_left = self.missionaries_left + moviment['missionaries']\n",
        "                cannibals_right = self.cannibals_right - moviment['cannibals']\n",
        "                cannibals_left = self.cannibals_left + moviment['cannibals']\n",
        "            # Cria o estado do filho e caso este seja válido, o adiciona à lista de filhos do pai\n",
        "            children = State(missionaries_left, missionaries_right, cannibals_left,\n",
        "                           cannibals_right, new_river_side)\n",
        "            children.father = self\n",
        "            if children.valide_state():\n",
        "                self.son.append(children)\n"
      ],
      "metadata": {
        "id": "Cdz0NaE1nMhF"
      },
      "execution_count": 48,
      "outputs": []
    },
    {
      "cell_type": "code",
      "source": [
        "class Missionarios_Canibais():\n",
        "    \"\"\"\n",
        "        Resolve o problema dos missionários e canibais, gerando para isso uma árvore de estados.\n",
        "    \"\"\"\n",
        "\n",
        "    def __init__(self):\n",
        "        \"\"\"\n",
        "            Inicializa uma instância do problema com uma raiz pré-definida e ainda sem solução.\n",
        "        \"\"\"\n",
        "        # Insere a raiz na fila de execução, que será utilizada para fazer uma busca em largura\n",
        "        self.fila_execucao = [State(3, 0, 3, 0, 'left')]\n",
        "        self.solucao = None\n",
        "\n",
        "    def gerar_solucao(self):\n",
        "        \"\"\"\n",
        "            Encontra a solução gerando uma árvore de estados a ser percorrida com o algoritmo de\n",
        "            busca em largura, que utiliza uma fila em sua execução.\n",
        "        \"\"\"\n",
        "        # Realiza a busca em largura em busca da solução\n",
        "        for elemento in self.fila_execucao:\n",
        "            if elemento.last_state():\n",
        "                # Se a solução foi encontrada, o caminho que compõe a solução é gerado realizando\n",
        "                # o caminho de volta até a raiz da árvore de estados e então encerra a busca\n",
        "                self.solucao = [elemento]\n",
        "                while elemento.father:\n",
        "                    self.solucao.insert(0, elemento.father)\n",
        "                    elemento = elemento.father\n",
        "                break;\n",
        "            # Caso o elemento não seja a solução, gera seus filhos e os adiciona na fila de execução\n",
        "            elemento.make_children()\n",
        "            self.fila_execucao.extend(elemento.son)"
      ],
      "metadata": {
        "id": "03cD84nQn2el"
      },
      "execution_count": 49,
      "outputs": []
    },
    {
      "cell_type": "code",
      "source": [
        "def main():\n",
        "    # Instancia o problema e gera sua solução\n",
        "    problema = Missionarios_Canibais()\n",
        "    problema.gerar_solucao()\n",
        "    # Exibe a solução em tela, separando cada passo\n",
        "    for state in problema.solucao:\n",
        "        print (state)\n",
        "        print (34 * '-')\n",
        "\n",
        "if __name__ == '__main__':\n",
        "    main()"
      ],
      "metadata": {
        "id": "9dBbkPHXoAtz"
      },
      "execution_count": null,
      "outputs": []
    }
  ]
}